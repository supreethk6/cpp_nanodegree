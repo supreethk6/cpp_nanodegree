{
 "cells": [
  {
   "cell_type": "code",
   "execution_count": 1,
   "metadata": {
    "vscode": {
     "languageId": "cpp"
    }
   },
   "outputs": [],
   "source": [
    "#include <iostream>"
   ]
  },
  {
   "cell_type": "markdown",
   "metadata": {},
   "source": [
    "## Conda\n",
    "\n",
    "### Anaconda download and installation\n",
    "- https://www.anaconda.com/products/distribution\n",
    "- Verify the Download Checksum \n",
    "  - ``` sha256sum Anaconda3–2022.05–Linux–x86_64.sh ```\n",
    "- Run Anaconda Installation Script\n",
    "  - ``` bash Anaconda3-2022.05-Linux-x86_64.sh ```\n",
    "  - A license agreement will appear. Use the Enter key to review the agreement.\n",
    "  - The installer will prompt you to accept the default location, or install to a different location.\n",
    "  - ``` \n",
    "    Do you wish the installer to initialize Anaconda3\n",
    "    by running conda init? [yes|no]\n",
    "    [no] >>> yes\n",
    "    ```\n",
    "  - ``` conda config --set auto_activate_base false ```\n",
    "  - ``` conda init ``` \n",
    "  - ``` conda info ```\n",
    "  - ``` conda update conda ```\n",
    "  - ``` conda update anaconda ```\n",
    "- Create and Activate Anaconda Environments\n",
    "  ```\n",
    "  conda create --name cpp_env python=3\n",
    "  conda activate cpp_env\n",
    "  ```"
   ]
  },
  {
   "cell_type": "code",
   "execution_count": 4,
   "metadata": {
    "vscode": {
     "languageId": "cpp"
    }
   },
   "outputs": [],
   "source": [
    "#include <iostream>\n",
    "// Write a simple function to add two integers\n",
    "int Addition(int a, int b)\n",
    "{\n",
    "  return a + b;\n",
    "}\n"
   ]
  },
  {
   "cell_type": "code",
   "execution_count": 6,
   "metadata": {
    "vscode": {
     "languageId": "cpp"
    }
   },
   "outputs": [],
   "source": [
    "\n",
    "// Define a main() function to test the Addition() function\n",
    "int main()\n",
    "{\n",
    "  int a = 2;\n",
    "  int b = 2;\n",
    "  int z = Addition(a, b);\n",
    "  std::cout << a << \" + \" << b << \" = \" << z << \" Yay!\\n\";\n",
    "}"
   ]
  },
  {
   "cell_type": "code",
   "execution_count": null,
   "metadata": {
    "vscode": {
     "languageId": "cpp"
    }
   },
   "outputs": [],
   "source": []
  }
 ],
 "metadata": {
  "kernelspec": {
   "display_name": "C++17",
   "language": "C++17",
   "name": "xcpp17"
  },
  "language_info": {
   "codemirror_mode": "text/x-c++src",
   "file_extension": ".cpp",
   "mimetype": "text/x-c++src",
   "name": "c++",
   "version": "17"
  },
  "orig_nbformat": 4
 },
 "nbformat": 4,
 "nbformat_minor": 2
}
